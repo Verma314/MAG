{
 "cells": [
  {
   "cell_type": "code",
   "execution_count": 3,
   "metadata": {
    "collapsed": false
   },
   "outputs": [
    {
     "name": "stdout",
     "output_type": "stream",
     "text": [
      "2.0.3-dev\n",
      "Thu Apr 14 10:08:34 2016 loading papers ...\n",
      "[loadbin papers]  Elapsed: 32.42 seconds, Rows: 126909021\n",
      "__papers__      \tcpu(s) 32.337\tmem(MB) 90869.168\n",
      "Thu Apr 14 10:09:07 2016 loading paa ...\n",
      "[loadbin paa]     Elapsed: 55.35 seconds, Rows: 337000600\n",
      "__paa__         \tcpu(s) 55.177\tmem(MB) 90869.168\n",
      "Thu Apr 14 10:10:02 2016 loading auth ...\n",
      "[loadbin auth]    Elapsed: 9.60 seconds, Rows: 114698044\n",
      "__auth__        \tcpu(s) 9.579\tmem(MB) 90869.168\n",
      "Thu Apr 14 10:10:11 2016 loading affl ...\n",
      "[loadbin affl]    Elapsed: 0.00 seconds, Rows: 19843\n",
      "__affl__        \tcpu(s) 0.002\tmem(MB) 90869.168\n",
      "Thu Apr 14 10:10:11 2016 loading references ...\n",
      "[loadbin references]Elapsed: 44.19 seconds, Rows: 528682289\n",
      "__references__  \tcpu(s) 44.029\tmem(MB) 90869.168\n",
      "Thu Apr 14 10:10:56 2016 loading context ...\n",
      "[loadbin context] Elapsed: 118.03 seconds, Rows: 528682289\n",
      "__context__     \tcpu(s) 117.748\tmem(MB) 90869.168\n",
      "Thu Apr 14 10:12:54 2016 done\n"
     ]
    }
   ],
   "source": [
    "import sys\n",
    "import os\n",
    "import time\n",
    "import snap\n",
    "print snap.Version\n",
    "import testutils\n",
    "\n",
    "context = snap.TTableContext()\n",
    "\n",
    "t = testutils.Timer()\n",
    "r = testutils.Resource()\n",
    "\n",
    "# load tables and context\n",
    "srcfile = \"/dfs/scratch0/viswa/fromlfs/mag-022016-papers-paa-authors-affls-refs-context-net.bin\"\n",
    "FIn = snap.TFIn(srcfile)\n",
    "\n",
    "# load papers\n",
    "print time.ctime(), \"loading papers ...\"\n",
    "papers = snap.TTable.Load(FIn,context)\n",
    "t.show(\"loadbin papers\", papers)\n",
    "r.show(\"__papers__\")\n",
    "\n",
    "print time.ctime(), \"loading paa ...\"\n",
    "paa = snap.TTable.Load(FIn,context)\n",
    "t.show(\"loadbin paa\", paa)\n",
    "r.show(\"__paa__\")\n",
    "\n",
    "print time.ctime(), \"loading auth ...\"\n",
    "auth = snap.TTable.Load(FIn,context)\n",
    "t.show(\"loadbin auth\", auth)\n",
    "r.show(\"__auth__\")\n",
    "\n",
    "print time.ctime(), \"loading affl ...\"\n",
    "affl = snap.TTable.Load(FIn,context)\n",
    "t.show(\"loadbin affl\", affl)\n",
    "r.show(\"__affl__\")\n",
    "\n",
    "# load references\n",
    "print time.ctime(), \"loading references ...\"\n",
    "refs = snap.TTable.Load(FIn,context)\n",
    "t.show(\"loadbin references\", refs)\n",
    "r.show(\"__references__\")\n",
    "\n",
    "# load context\n",
    "print time.ctime(), \"loading context ...\"\n",
    "context.Load(FIn)\n",
    "t.show(\"loadbin context\", refs)\n",
    "r.show(\"__context__\")\n",
    "\n",
    "# load network\n",
    "#print time.ctime(), \"loading network ...\"\n",
    "#net = snap.TNEANet.Load(FIn)\n",
    "#t.show(\"loadbin network\", net)\n",
    "#r.show(\"__network__\")\n",
    "\n",
    "print time.ctime(), \"done\"\n"
   ]
  },
  {
   "cell_type": "code",
   "execution_count": 7,
   "metadata": {
    "collapsed": false
   },
   "outputs": [
    {
     "name": "stdout",
     "output_type": "stream",
     "text": [
      "Thu Apr 14 10:20:01 2016 Creating network ...\n",
      "Thu Apr 14 10:32:23 2016 done.\n"
     ]
    }
   ],
   "source": [
    "schema = map(lambda x: x.GetVal1(), refs.GetSchema())\n",
    "print time.ctime(), \"Creating network ...\"\n",
    "net = snap.ToGraph(snap.PNGraph, refs, schema[0], schema[1], snap.aaFirst)\n",
    "print time.ctime(), \"done.\""
   ]
  },
  {
   "cell_type": "code",
   "execution_count": 8,
   "metadata": {
    "collapsed": false
   },
   "outputs": [
    {
     "name": "stdout",
     "output_type": "stream",
     "text": [
      "Thu Apr 14 10:37:52 2016 computing indegv ...\n",
      "[indegv]          Elapsed: 1499.50 seconds, Length: 46742304\n",
      "__InDegV__      \tcpu(s) 3750.534\tmem(MB) 91295.560\n",
      "Thu Apr 14 10:37:53 2016\n"
     ]
    }
   ],
   "source": [
    "print time.ctime(), \"computing indegv ...\"\n",
    "InDegV = snap.TIntPrV()\n",
    "snap.GetNodeInDegV(net, InDegV)\n",
    "t.show(\"indegv\", InDegV)\n",
    "r.show(\"__InDegV__\")\n",
    "print time.ctime()"
   ]
  },
  {
   "cell_type": "code",
   "execution_count": 9,
   "metadata": {
    "collapsed": false
   },
   "outputs": [
    {
     "name": "stdout",
     "output_type": "stream",
     "text": [
      "Thu Apr 14 10:38:06 2016 computing pagerank ...\n",
      "[prank]           Elapsed: 1110.43 seconds, Length: 46742304\n",
      "__PRankH__      \tcpu(s) 1095.239\tmem(MB) 91340.572\n",
      "Thu Apr 14 10:56:24 2016\n"
     ]
    }
   ],
   "source": [
    "print time.ctime(), \"computing pagerank ...\"\n",
    "PRankH = snap.TIntFltH()\n",
    "snap.GetPageRankMP(net, PRankH, 0.85, 1e-4, 100)\n",
    "t.show(\"prank\", PRankH)\n",
    "r.show(\"__PRankH__\")\n",
    "print time.ctime()"
   ]
  },
  {
   "cell_type": "code",
   "execution_count": 10,
   "metadata": {
    "collapsed": false
   },
   "outputs": [
    {
     "name": "stdout",
     "output_type": "stream",
     "text": [
      "Thu Apr 14 12:27:37 2016 creating TTable with PageRank ...\n",
      "[prankt]          Elapsed: 5481.42 seconds\n",
      "__PRankT__      \tcpu(s) 8.162\tmem(MB) 91340.572\n",
      "Thu Apr 14 12:27:45 2016\n"
     ]
    }
   ],
   "source": [
    "print time.ctime(), \"creating TTable with PageRank ...\"\n",
    "PRankT = snap.TTable(PRankH, \"PaperID\", \"PageRankScore\", context, snap.TBool(True))\n",
    "t.show(\"prankt\", PRankT)\n",
    "r.show(\"__PRankT__\")\n",
    "print time.ctime()"
   ]
  },
  {
   "cell_type": "code",
   "execution_count": 11,
   "metadata": {
    "collapsed": false
   },
   "outputs": [
    {
     "name": "stdout",
     "output_type": "stream",
     "text": [
      "Thu Apr 14 12:27:54 2016 Creating table after join ...\n",
      "[paperprankjoint] Elapsed: 170.70 seconds, Rows: 46742304\n",
      "__PaperPRankJoinT__\tcpu(s) 161.384\tmem(MB) 94924.608\n",
      "Thu Apr 14 12:30:36 2016\n"
     ]
    }
   ],
   "source": [
    "print time.ctime(), \"Creating table after join ...\"\n",
    "PaperPRankJoinT = papers.Join(\"PaperID\", PRankT, \"PaperID\")\n",
    "t.show(\"paperprankjoint\", PaperPRankJoinT)\n",
    "r.show(\"__PaperPRankJoinT__\")\n",
    "print time.ctime()"
   ]
  },
  {
   "cell_type": "code",
   "execution_count": 12,
   "metadata": {
    "collapsed": false
   },
   "outputs": [
    {
     "name": "stdout",
     "output_type": "stream",
     "text": [
      "Thu Apr 14 12:31:32 2016\n",
      "Thu Apr 14 12:48:52 2016\n"
     ]
    }
   ],
   "source": [
    "print time.ctime()\n",
    "orderby = snap.TStrV()\n",
    "orderby.Add(\"PageRankScore\")\n",
    "PaperPRankJoinT.Order(orderby, \"\", snap.TBool(False), snap.TBool(False))\n",
    "print time.ctime()"
   ]
  },
  {
   "cell_type": "code",
   "execution_count": 13,
   "metadata": {
    "collapsed": false
   },
   "outputs": [
    {
     "name": "stdout",
     "output_type": "stream",
     "text": [
      "Thu Apr 14 12:48:55 2016\n",
      "1000000\n",
      "2000000\n",
      "3000000\n",
      "4000000\n",
      "5000000\n",
      "6000000\n",
      "7000000\n",
      "8000000\n",
      "9000000\n",
      "10000000\n",
      "11000000\n",
      "12000000\n",
      "13000000\n",
      "14000000\n",
      "15000000\n",
      "16000000\n",
      "17000000\n",
      "18000000\n",
      "19000000\n",
      "20000000\n",
      "21000000\n",
      "22000000\n",
      "23000000\n",
      "24000000\n",
      "25000000\n",
      "26000000\n",
      "27000000\n",
      "28000000\n",
      "29000000\n",
      "30000000\n",
      "31000000\n",
      "32000000\n",
      "33000000\n",
      "34000000\n",
      "35000000\n",
      "36000000\n",
      "37000000\n",
      "38000000\n",
      "39000000\n",
      "40000000\n",
      "41000000\n",
      "42000000\n",
      "43000000\n",
      "44000000\n",
      "45000000\n",
      "46000000\n",
      "Thu Apr 14 12:52:58 2016\n"
     ]
    }
   ],
   "source": [
    "print time.ctime()\n",
    "InDegH = snap.TIntH()\n",
    "i = 0\n",
    "for item in InDegV:\n",
    "    i += 1\n",
    "    if i % 1000000 == 0:\n",
    "        print i\n",
    "    InDegH.AddDat(item.GetVal1(), item.GetVal2())\n",
    "#InDegT = snap.TTable(PRankH, \"PaperID\", \"PageRankScore\", context, snap.TBool(True))\n",
    "print time.ctime()"
   ]
  },
  {
   "cell_type": "code",
   "execution_count": 14,
   "metadata": {
    "collapsed": false
   },
   "outputs": [
    {
     "name": "stdout",
     "output_type": "stream",
     "text": [
      "Thu Apr 14 12:54:04 2016\n",
      "Thu Apr 14 12:54:12 2016\n"
     ]
    }
   ],
   "source": [
    "print time.ctime()\n",
    "InDegT = snap.TTable(InDegH, \"PaperID\", \"InDeg\", context, snap.TBool(True))\n",
    "print time.ctime()"
   ]
  },
  {
   "cell_type": "code",
   "execution_count": 15,
   "metadata": {
    "collapsed": false
   },
   "outputs": [
    {
     "name": "stdout",
     "output_type": "stream",
     "text": [
      "Thu Apr 14 12:54:22 2016 Creating table after join ...\n",
      "Thu Apr 14 12:56:57 2016\n"
     ]
    }
   ],
   "source": [
    "print time.ctime(), \"Creating table after join ...\"\n",
    "PaperInDegJoinT = papers.Join(\"PaperID\", InDegT, \"PaperID\")\n",
    "print time.ctime()"
   ]
  },
  {
   "cell_type": "code",
   "execution_count": 16,
   "metadata": {
    "collapsed": false
   },
   "outputs": [
    {
     "name": "stdout",
     "output_type": "stream",
     "text": [
      "Thu Apr 14 12:57:02 2016\n",
      "Thu Apr 14 12:57:38 2016\n"
     ]
    }
   ],
   "source": [
    "print time.ctime()\n",
    "orderby = snap.TStrV()\n",
    "orderby.Add(\"InDeg\")\n",
    "PaperInDegJoinT.Order(orderby, \"\", snap.TBool(False), snap.TBool(False))\n",
    "print time.ctime()"
   ]
  },
  {
   "cell_type": "code",
   "execution_count": null,
   "metadata": {
    "collapsed": false
   },
   "outputs": [],
   "source": [
    "\"\"\"\n",
    "paa_rit = paa.BegRI()\n",
    "schema = paa.GetSchema()\n",
    "#for i in range(schema.Len()):\n",
    "#    print schema[i].GetVal1(), schema[i].GetVal2()\n",
    "i = 0\n",
    "print dir(paa)\n",
    "while paa_rit < paa.EndRI():\n",
    "    print paa_rit.GetRowIdx(), paa_rit.GetStrMapByName(\"PaperID\"), context.GetStr(paa_rit.GetStrMapByName(\"PaperID\"))\n",
    "    print paa.GetStrVal(\"PaperID\", paa_rit.GetRowIdx())\n",
    "    paa_rit.Next()\n",
    "    print 'Next'\n",
    "    i += 1\n",
    "    if i > 4:\n",
    "        break\n",
    "\"\"\""
   ]
  },
  {
   "cell_type": "code",
   "execution_count": 20,
   "metadata": {
    "collapsed": false
   },
   "outputs": [
    {
     "name": "stdout",
     "output_type": "stream",
     "text": [
      "Thu Apr 14 13:01:49 2016\n",
      "AuthorID 2\n",
      "AuthorName 2\n",
      "_id 0\n",
      "Thu Apr 14 13:03:40 2016\n"
     ]
    }
   ],
   "source": [
    "print time.ctime()\n",
    "auth_schema = auth.GetSchema()\n",
    "for i in range(auth_schema.Len()):\n",
    "    print auth_schema[i].GetVal1(), auth_schema[i].GetVal2()\n",
    "auth.RequestIndexStrMap(\"AuthorID\")\n",
    "print time.ctime()"
   ]
  },
  {
   "cell_type": "code",
   "execution_count": 22,
   "metadata": {
    "collapsed": false
   },
   "outputs": [
    {
     "name": "stdout",
     "output_type": "stream",
     "text": [
      "Thu Apr 14 13:04:01 2016\n",
      "AfflID 2\n",
      "AfflName 2\n",
      "_id 0\n",
      "Thu Apr 14 13:04:01 2016\n"
     ]
    }
   ],
   "source": [
    "print time.ctime()\n",
    "affl_schema = affl.GetSchema()\n",
    "for i in range(affl_schema.Len()):\n",
    "    print affl_schema[i].GetVal1(), affl_schema[i].GetVal2()\n",
    "affl.RequestIndexStrMap(\"AfflID\")\n",
    "print time.ctime()"
   ]
  },
  {
   "cell_type": "code",
   "execution_count": 23,
   "metadata": {
    "collapsed": false
   },
   "outputs": [
    {
     "name": "stdout",
     "output_type": "stream",
     "text": [
      "Thu Apr 14 13:12:39 2016\n",
      "Thu Apr 14 13:21:47 2016\n"
     ]
    }
   ],
   "source": [
    "print time.ctime()\n",
    "PaperAAPRJoinT = PaperPRankJoinT.Join(\"PaperID\", paa, \"PaperID\")\n",
    "print time.ctime()"
   ]
  },
  {
   "cell_type": "code",
   "execution_count": 26,
   "metadata": {
    "collapsed": false
   },
   "outputs": [
    {
     "name": "stdout",
     "output_type": "stream",
     "text": [
      "10000000\n",
      "20000000\n",
      "30000000\n",
      "40000000\n",
      "50000000\n",
      "60000000\n",
      "70000000\n",
      "80000000\n",
      "90000000\n",
      "100000000\n",
      "110000000\n",
      "120000000\n",
      "130000000\n",
      "140000000\n",
      "150000000\n",
      "160000000\n",
      "160022074\n"
     ]
    }
   ],
   "source": [
    "paperaapr_it = PaperAAPRJoinT.BegRI()\n",
    "i = 0\n",
    "while paperaapr_it < PaperAAPRJoinT.EndRI():\n",
    "    paperaapr_it.Next()\n",
    "    i += 1\n",
    "    if i % 10000000 == 0:\n",
    "        print i\n",
    "print i"
   ]
  },
  {
   "cell_type": "code",
   "execution_count": 27,
   "metadata": {
    "collapsed": false
   },
   "outputs": [
    {
     "name": "stdout",
     "output_type": "stream",
     "text": [
      "10000000\n",
      "20000000\n",
      "30000000\n",
      "40000000\n",
      "46742304\n"
     ]
    }
   ],
   "source": [
    "paperpr_it = PaperPRankJoinT.BegRI()\n",
    "i = 0\n",
    "while paperpr_it < PaperPRankJoinT.EndRI():\n",
    "    paperpr_it.Next()\n",
    "    i += 1\n",
    "    if i % 10000000 == 0:\n",
    "        print i\n",
    "print i"
   ]
  },
  {
   "cell_type": "code",
   "execution_count": 33,
   "metadata": {
    "collapsed": false
   },
   "outputs": [
    {
     "name": "stdout",
     "output_type": "stream",
     "text": [
      "10000000\n",
      "20000000\n",
      "30000000\n",
      "40000000\n",
      "50000000\n",
      "60000000\n",
      "70000000\n",
      "80000000\n",
      "90000000\n",
      "100000000\n",
      "110000000\n",
      "120000000\n",
      "130000000\n",
      "140000000\n",
      "150000000\n",
      "160000000\n",
      "160022074\n"
     ]
    }
   ],
   "source": [
    "paperaapr_it = PaperAAPRJoinT.BegRI()\n",
    "i = 0\n",
    "s = PaperAAPRJoinT.GetSchema()\n",
    "#for i in range(s.Len()):\n",
    "#   print s[i].GetVal1(), s[i].GetVal2()\n",
    "i = 0\n",
    "auth_to_score = snap.TIntFltH()\n",
    "while paperaapr_it < PaperAAPRJoinT.EndRI():\n",
    "    auth_id = paperaapr_it.GetStrMapByName(\"AuthorID\")\n",
    "    score = paperaapr_it.GetFltAttr(\"PageRankScore\")\n",
    "    if auth_to_score.IsKey(auth_id):\n",
    "        old_score = auth_to_score.GetDat(auth_id)\n",
    "        new_score = old_score + score\n",
    "        auth_to_score.AddDat(auth_id, new_score)\n",
    "    else:\n",
    "        auth_to_score.AddDat(auth_id, score)\n",
    "    paperaapr_it.Next()\n",
    "    i += 1\n",
    "    if i % 10000000 == 0:\n",
    "        print i\n",
    "print i"
   ]
  },
  {
   "cell_type": "code",
   "execution_count": 34,
   "metadata": {
    "collapsed": false
   },
   "outputs": [
    {
     "name": "stdout",
     "output_type": "stream",
     "text": [
      "Thu Apr 14 14:06:13 2016\n",
      "Thu Apr 14 14:06:20 2016\n"
     ]
    }
   ],
   "source": [
    "print time.ctime()\n",
    "AuthorPRankT = snap.TTable(auth_to_score, \"AuthorID\", \"PageRankScore\", context, snap.TBool(True))\n",
    "print time.ctime()"
   ]
  },
  {
   "cell_type": "code",
   "execution_count": 35,
   "metadata": {
    "collapsed": false
   },
   "outputs": [
    {
     "name": "stdout",
     "output_type": "stream",
     "text": [
      "Thu Apr 14 14:07:30 2016\n",
      "Thu Apr 14 14:16:34 2016\n"
     ]
    }
   ],
   "source": [
    "print time.ctime()\n",
    "orderby = snap.TStrV()\n",
    "orderby.Add(\"PageRankScore\" )\n",
    "AuthorPRankT.Order(orderby, \"\", snap.TBool(False), snap.TBool(False))\n",
    "print time.ctime()"
   ]
  },
  {
   "cell_type": "code",
   "execution_count": 38,
   "metadata": {
    "collapsed": false
   },
   "outputs": [
    {
     "name": "stdout",
     "output_type": "stream",
     "text": [
      "24591336 7A1262EF 0.000373207117574\n",
      "30975895 10.1007/BF02525835 0.000372893499269\n",
      "29907397 The Histologic Characteristics of the Periapical Tissue with Regard to Root-Canal Treatment * 0.000370402487903\n",
      "32319422 x ray diffraction and vibrational spectroscopic studies of indolecarboxylic acids and their metal complexes 0.000370402487903\n",
      "22035 cocyclic jacket matrices and its application to cryptography systems 0.000172062609994\n",
      "2035020 10.1109/VETECF.2008.464 0.000135701122354\n"
     ]
    }
   ],
   "source": [
    "apr_it = AuthorPRankT.BegRI()\n",
    "i = 0\n",
    "while apr_it < AuthorPRankT.EndRI():\n",
    "    \n",
    "    print apr_it.GetIntAttr(\"AuthorID\"), context.GetStr(apr_it.GetIntAttr(\"AuthorID\")), apr_it.GetFltAttr(\"PageRankScore\")\n",
    "    \n",
    "    apr_it.Next()\n",
    "    i += 1\n",
    "    if i > 5:\n",
    "        break"
   ]
  },
  {
   "cell_type": "code",
   "execution_count": 39,
   "metadata": {
    "collapsed": false
   },
   "outputs": [
    {
     "name": "stdout",
     "output_type": "stream",
     "text": [
      "Thu Apr 14 15:09:24 2016\n",
      "Thu Apr 14 15:17:37 2016\n"
     ]
    },
    {
     "ename": "RuntimeError",
     "evalue": "Execution stopped: (0<=ValN)&&(ValN<Vals) [Reason:'Index:-1 Vals:7 MxVals:7 Type:4TVecIS_I4TIntiEiE'], file ../../snap-dev/glib-core/ds.h, line 463",
     "output_type": "error",
     "traceback": [
      "\u001b[1;31m---------------------------------------------------------------------------\u001b[0m",
      "\u001b[1;31mRuntimeError\u001b[0m                              Traceback (most recent call last)",
      "\u001b[1;32m<ipython-input-39-298353475515>\u001b[0m in \u001b[0;36m<module>\u001b[1;34m()\u001b[0m\n\u001b[0;32m     12\u001b[0m \u001b[1;32mwhile\u001b[0m \u001b[0mpaperaaid_it\u001b[0m \u001b[1;33m<\u001b[0m \u001b[0mPaperAAInDegJoinT\u001b[0m\u001b[1;33m.\u001b[0m\u001b[0mEndRI\u001b[0m\u001b[1;33m(\u001b[0m\u001b[1;33m)\u001b[0m\u001b[1;33m:\u001b[0m\u001b[1;33m\u001b[0m\u001b[0m\n\u001b[0;32m     13\u001b[0m     \u001b[0mauth_id\u001b[0m \u001b[1;33m=\u001b[0m \u001b[0mpaperaaid_it\u001b[0m\u001b[1;33m.\u001b[0m\u001b[0mGetStrMapByName\u001b[0m\u001b[1;33m(\u001b[0m\u001b[1;34m\"AuthorID\"\u001b[0m\u001b[1;33m)\u001b[0m\u001b[1;33m\u001b[0m\u001b[0m\n\u001b[1;32m---> 14\u001b[1;33m     \u001b[0mdeg\u001b[0m \u001b[1;33m=\u001b[0m \u001b[0mpaperaapr_it\u001b[0m\u001b[1;33m.\u001b[0m\u001b[0mGetIntAttr\u001b[0m\u001b[1;33m(\u001b[0m\u001b[1;34m\"InDeg\"\u001b[0m\u001b[1;33m)\u001b[0m\u001b[1;33m\u001b[0m\u001b[0m\n\u001b[0m\u001b[0;32m     15\u001b[0m     \u001b[1;32mif\u001b[0m \u001b[0mauth_to_deg\u001b[0m\u001b[1;33m.\u001b[0m\u001b[0mIsKey\u001b[0m\u001b[1;33m(\u001b[0m\u001b[0mauth_id\u001b[0m\u001b[1;33m)\u001b[0m\u001b[1;33m:\u001b[0m\u001b[1;33m\u001b[0m\u001b[0m\n\u001b[0;32m     16\u001b[0m         \u001b[0mold_deg\u001b[0m \u001b[1;33m=\u001b[0m \u001b[0mauth_to_deg\u001b[0m\u001b[1;33m.\u001b[0m\u001b[0mGetDat\u001b[0m\u001b[1;33m(\u001b[0m\u001b[0mauth_id\u001b[0m\u001b[1;33m)\u001b[0m\u001b[1;33m\u001b[0m\u001b[0m\n",
      "\u001b[1;31mRuntimeError\u001b[0m: Execution stopped: (0<=ValN)&&(ValN<Vals) [Reason:'Index:-1 Vals:7 MxVals:7 Type:4TVecIS_I4TIntiEiE'], file ../../snap-dev/glib-core/ds.h, line 463"
     ]
    }
   ],
   "source": [
    "print time.ctime()\n",
    "PaperAAInDegJoinT = PaperInDegJoinT.Join(\"PaperID\", paa, \"PaperID\")\n",
    "print time.ctime()\n",
    "\n",
    "paperaaid_it = PaperAAInDegJoinT.BegRI()\n",
    "i = 0\n",
    "s = PaperAAInDegJoinT.GetSchema()\n",
    "#for i in range(s.Len()):\n",
    "#   print s[i].GetVal1(), s[i].GetVal2()\n"
   ]
  },
  {
   "cell_type": "code",
   "execution_count": 40,
   "metadata": {
    "collapsed": false
   },
   "outputs": [
    {
     "name": "stdout",
     "output_type": "stream",
     "text": [
      "Thu Apr 14 15:19:25 2016\n",
      "10000000\n",
      "20000000\n",
      "30000000\n",
      "40000000\n",
      "50000000\n",
      "60000000\n",
      "70000000\n",
      "80000000\n",
      "90000000\n",
      "100000000\n",
      "110000000\n",
      "120000000\n",
      "130000000\n",
      "140000000\n",
      "150000000\n",
      "160000000\n",
      "160022074\n",
      "Thu Apr 14 15:38:39 2016\n"
     ]
    }
   ],
   "source": [
    "i = 0\n",
    "auth_to_deg = snap.TIntH()\n",
    "print time.ctime()\n",
    "while paperaaid_it < PaperAAInDegJoinT.EndRI():\n",
    "    auth_id = paperaaid_it.GetStrMapByName(\"AuthorID\")\n",
    "    deg = paperaaid_it.GetIntAttr(\"InDeg\")\n",
    "    if auth_to_deg.IsKey(auth_id):\n",
    "        old_deg = auth_to_deg.GetDat(auth_id)\n",
    "        new_deg = old_deg + deg\n",
    "        auth_to_deg.AddDat(auth_id, new_deg)\n",
    "    else:\n",
    "        auth_to_deg.AddDat(auth_id, deg)\n",
    "    paperaaid_it.Next()\n",
    "    i += 1\n",
    "    if i % 10000000 == 0:\n",
    "        print i\n",
    "print i\n",
    "print time.ctime()"
   ]
  },
  {
   "cell_type": "code",
   "execution_count": 41,
   "metadata": {
    "collapsed": false
   },
   "outputs": [
    {
     "name": "stdout",
     "output_type": "stream",
     "text": [
      "Thu Apr 14 15:41:01 2016\n",
      "Thu Apr 14 15:41:09 2016\n",
      "Thu Apr 14 15:41:09 2016\n",
      "Thu Apr 14 15:41:22 2016\n"
     ]
    }
   ],
   "source": [
    "print time.ctime()\n",
    "AuthorInDegT = snap.TTable(auth_to_deg, \"AuthorID\", \"InDeg\", context, snap.TBool(True))\n",
    "print time.ctime()\n",
    "print time.ctime()\n",
    "orderby = snap.TStrV()\n",
    "orderby.Add(\"InDeg\")\n",
    "AuthorInDegT.Order(orderby, \"\", snap.TBool(False), snap.TBool(False))\n",
    "print time.ctime()"
   ]
  },
  {
   "cell_type": "code",
   "execution_count": null,
   "metadata": {
    "collapsed": false
   },
   "outputs": [
    {
     "name": "stdout",
     "output_type": "stream",
     "text": [
      "Thu Apr 14 15:58:29 2016\n",
      "10000000"
     ]
    }
   ],
   "source": [
    "i = 0\n",
    "affl_to_deg = snap.TIntH()\n",
    "print time.ctime()\n",
    "paperaaid_it = PaperAAInDegJoinT.BegRI()\n",
    "while paperaaid_it < PaperAAInDegJoinT.EndRI():\n",
    "    affl_id = paperaaid_it.GetStrMapByName(\"AfflID\")\n",
    "    deg = paperaaid_it.GetIntAttr(\"InDeg\")\n",
    "    if affl_to_deg.IsKey(affl_id):\n",
    "        old_deg = affl_to_deg.GetDat(affl_id)\n",
    "        new_deg = old_deg + deg\n",
    "        affl_to_deg.AddDat(affl_id, new_deg)\n",
    "    else:\n",
    "        affl_to_deg.AddDat(affl_id, deg)\n",
    "    paperaaid_it.Next()\n",
    "    i += 1\n",
    "    if i % 10000000 == 0:\n",
    "        print i\n",
    "print i\n",
    "print time.ctime()"
   ]
  },
  {
   "cell_type": "code",
   "execution_count": 47,
   "metadata": {
    "collapsed": false
   },
   "outputs": [
    {
     "name": "stdout",
     "output_type": "stream",
     "text": [
      "Thu Apr 14 15:56:48 2016\n"
     ]
    },
    {
     "ename": "RuntimeError",
     "evalue": "Execution stopped: (0<=ValN)&&(ValN<Vals) [Reason:'Index:-1 Vals:0 MxVals:0 Type:4TVecI4TIntiE'], file ../../snap-dev/glib-core/ds.h, line 467",
     "output_type": "error",
     "traceback": [
      "\u001b[1;31m---------------------------------------------------------------------------\u001b[0m",
      "\u001b[1;31mRuntimeError\u001b[0m                              Traceback (most recent call last)",
      "\u001b[1;32m<ipython-input-47-f7d379aa4bf6>\u001b[0m in \u001b[0;36m<module>\u001b[1;34m()\u001b[0m\n\u001b[0;32m      1\u001b[0m \u001b[1;32mprint\u001b[0m \u001b[0mtime\u001b[0m\u001b[1;33m.\u001b[0m\u001b[0mctime\u001b[0m\u001b[1;33m(\u001b[0m\u001b[1;33m)\u001b[0m\u001b[1;33m\u001b[0m\u001b[0m\n\u001b[1;32m----> 2\u001b[1;33m \u001b[0mAfflInDegT\u001b[0m \u001b[1;33m=\u001b[0m \u001b[0msnap\u001b[0m\u001b[1;33m.\u001b[0m\u001b[0mTTable\u001b[0m\u001b[1;33m(\u001b[0m\u001b[0maffl_to_deg\u001b[0m\u001b[1;33m,\u001b[0m \u001b[1;34m\"AfflID\"\u001b[0m\u001b[1;33m,\u001b[0m \u001b[1;34m\"InDeg\"\u001b[0m\u001b[1;33m,\u001b[0m \u001b[0mcontext\u001b[0m\u001b[1;33m,\u001b[0m \u001b[0msnap\u001b[0m\u001b[1;33m.\u001b[0m\u001b[0mTBool\u001b[0m\u001b[1;33m(\u001b[0m\u001b[0mTrue\u001b[0m\u001b[1;33m)\u001b[0m\u001b[1;33m)\u001b[0m\u001b[1;33m\u001b[0m\u001b[0m\n\u001b[0m\u001b[0;32m      3\u001b[0m \u001b[1;32mprint\u001b[0m \u001b[0mtime\u001b[0m\u001b[1;33m.\u001b[0m\u001b[0mctime\u001b[0m\u001b[1;33m(\u001b[0m\u001b[1;33m)\u001b[0m\u001b[1;33m\u001b[0m\u001b[0m\n\u001b[0;32m      4\u001b[0m \u001b[1;32mprint\u001b[0m \u001b[0mtime\u001b[0m\u001b[1;33m.\u001b[0m\u001b[0mctime\u001b[0m\u001b[1;33m(\u001b[0m\u001b[1;33m)\u001b[0m\u001b[1;33m\u001b[0m\u001b[0m\n\u001b[0;32m      5\u001b[0m \u001b[0morderby\u001b[0m \u001b[1;33m=\u001b[0m \u001b[0msnap\u001b[0m\u001b[1;33m.\u001b[0m\u001b[0mTStrV\u001b[0m\u001b[1;33m(\u001b[0m\u001b[1;33m)\u001b[0m\u001b[1;33m\u001b[0m\u001b[0m\n",
      "\u001b[1;32m/dfs/scratch0/viswa/spring2016/Mag_repo/MAG/snap.pyc\u001b[0m in \u001b[0;36m__init__\u001b[1;34m(self, *args)\u001b[0m\n\u001b[0;32m  31008\u001b[0m \u001b[1;33m\u001b[0m\u001b[0m\n\u001b[0;32m  31009\u001b[0m         \"\"\"\n\u001b[1;32m> 31010\u001b[1;33m         \u001b[0m_snap\u001b[0m\u001b[1;33m.\u001b[0m\u001b[0mTTable_swiginit\u001b[0m\u001b[1;33m(\u001b[0m\u001b[0mself\u001b[0m\u001b[1;33m,\u001b[0m\u001b[0m_snap\u001b[0m\u001b[1;33m.\u001b[0m\u001b[0mnew_TTable\u001b[0m\u001b[1;33m(\u001b[0m\u001b[1;33m*\u001b[0m\u001b[0margs\u001b[0m\u001b[1;33m)\u001b[0m\u001b[1;33m)\u001b[0m\u001b[1;33m\u001b[0m\u001b[0m\n\u001b[0m\u001b[0;32m  31011\u001b[0m     \u001b[1;32mdef\u001b[0m \u001b[0mNew\u001b[0m\u001b[1;33m(\u001b[0m\u001b[1;33m*\u001b[0m\u001b[0margs\u001b[0m\u001b[1;33m)\u001b[0m\u001b[1;33m:\u001b[0m\u001b[1;33m\u001b[0m\u001b[0m\n\u001b[0;32m  31012\u001b[0m         \"\"\"\n",
      "\u001b[1;31mRuntimeError\u001b[0m: Execution stopped: (0<=ValN)&&(ValN<Vals) [Reason:'Index:-1 Vals:0 MxVals:0 Type:4TVecI4TIntiE'], file ../../snap-dev/glib-core/ds.h, line 467"
     ]
    }
   ],
   "source": [
    "print time.ctime()\n",
    "AfflInDegT = snap.TTable(affl_to_deg, \"AfflID\", \"InDeg\", context, snap.TBool(True))\n",
    "print time.ctime()\n",
    "print time.ctime()\n",
    "orderby = snap.TStrV()\n",
    "orderby.Add(\"InDeg\")\n",
    "AfflInDegT.Order(orderby, \"\", snap.TBool(False), snap.TBool(False))\n",
    "print time.ctime()"
   ]
  },
  {
   "cell_type": "code",
   "execution_count": 17,
   "metadata": {
    "collapsed": false
   },
   "outputs": [
    {
     "name": "stdout",
     "output_type": "stream",
     "text": [
      "PaperID-1 2\n",
      "PaperTitle 2\n",
      "PaperTitleNorm 2\n",
      "PaperYear 2\n",
      "PaperDate 2\n",
      "PaperDOI 2\n",
      "VenueName 2\n",
      "VenueNameNorm 2\n",
      "JournalID 2\n",
      "SeriesID 2\n",
      "PaperRank 0\n",
      "_id-1 0\n",
      "PaperID-2 2\n",
      "PageRankScore 1\n",
      "_id-2 0\n",
      "_id 0\n",
      "5221350 Protein measurement with the folin phenol reagent 0.000370088869598 1832980 Cleavage of Structural Proteins during the Assembly of the Head of Bacteriophage T4 0.000125625544882 7441325 A rapid and sensitive method for the quantitation of microgram quantities of protein utilizing the principle of protein-dye binding. 9.73135715145e-05 1145686 Molecular cloning : a laboratory manual 6.29855443385e-05 14003718 The nature of the chemical bond 4.77545138718e-05\n"
     ]
    }
   ],
   "source": [
    "r_it = PaperPRankJoinT.BegRI()\n",
    "schema = PaperPRankJoinT.GetSchema()\n",
    "num_cols = schema.Len()\n",
    "for i in range(num_cols):\n",
    "    print schema[i].GetVal1(), schema[i].GetVal2()\n",
    "for i in range(10):\n",
    "    print r_it.GetRowIdx(), context.GetStr(r_it.GetStrMapByName(\"PaperTitle\")), r_it.GetFltAttr(\"PageRankScore\"),\n",
    "    r_it.Next()\n",
    "    i += 1\n",
    "    if i > 4:\n",
    "        break\n"
   ]
  },
  {
   "cell_type": "code",
   "execution_count": null,
   "metadata": {
    "collapsed": true
   },
   "outputs": [],
   "source": []
  },
  {
   "cell_type": "code",
   "execution_count": null,
   "metadata": {
    "collapsed": true
   },
   "outputs": [],
   "source": []
  }
 ],
 "metadata": {
  "kernelspec": {
   "display_name": "Python 2",
   "language": "python",
   "name": "python2"
  },
  "language_info": {
   "codemirror_mode": {
    "name": "ipython",
    "version": 2
   },
   "file_extension": ".py",
   "mimetype": "text/x-python",
   "name": "python",
   "nbconvert_exporter": "python",
   "pygments_lexer": "ipython2",
   "version": "2.7.3"
  }
 },
 "nbformat": 4,
 "nbformat_minor": 0
}
